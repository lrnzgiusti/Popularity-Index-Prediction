{
 "cells": [
  {
   "cell_type": "code",
   "execution_count": 17,
   "id": "a995c99e-d687-4ad5-b372-23ae71d21b3e",
   "metadata": {},
   "outputs": [],
   "source": [
    "import pickle\n",
    "from sklearn.model_selection import train_test_split\n",
    "from sklearn import ensemble\n",
    "from sklearn.metrics import mean_absolute_error\n",
    "\n",
    "from sklearn.linear_model import LinearRegression, ElasticNet, Lasso, Ridge\n",
    "from sklearn.svm import SVR\n",
    "from sklearn.ensemble import RandomForestRegressor, GradientBoostingRegressor\n",
    "\n",
    "\n",
    "from sklearn.model_selection import KFold"
   ]
  },
  {
   "cell_type": "code",
   "execution_count": 18,
   "id": "03ff0608-f1c4-498a-a11c-38397495fcc4",
   "metadata": {},
   "outputs": [],
   "source": [
    "X, y = pickle.load(open('X_y.pkl', 'rb')).values()"
   ]
  },
  {
   "cell_type": "code",
   "execution_count": 19,
   "id": "272e3d63-649f-4736-ba4f-c6a34e6b5fd6",
   "metadata": {},
   "outputs": [],
   "source": [
    "X_train, X_test, y_train, y_test = train_test_split(\n",
    "                                X, y, test_size=0.2, random_state=42)"
   ]
  },
  {
   "cell_type": "code",
   "execution_count": 21,
   "id": "1f11ffab-c514-4789-9f01-99a011deb7c3",
   "metadata": {},
   "outputs": [
    {
     "data": {
      "text/plain": [
       "(500, 6)"
      ]
     },
     "execution_count": 21,
     "metadata": {},
     "output_type": "execute_result"
    }
   ],
   "source": [
    "X.shape"
   ]
  },
  {
   "cell_type": "code",
   "execution_count": 23,
   "id": "7e00e2bf-0dab-4481-beb7-62000c6f7dfd",
   "metadata": {},
   "outputs": [],
   "source": [
    "kf = KFold(n_splits=20)\n",
    "maes = []\n",
    "gb = GradientBoostingRegressor(n_estimators=550)\n",
    "for k, (train, test) in enumerate(kf.split(X, y)):\n",
    "    gb.fit(X[train], y[train])\n",
    "    maes.append(mean_absolute_error(y[test], gb.predict(X[test])))"
   ]
  },
  {
   "cell_type": "code",
   "execution_count": 24,
   "id": "10054994-292a-4091-b468-9903fe71f220",
   "metadata": {},
   "outputs": [],
   "source": [
    "import numpy as np\n",
    "m = np.array(maes)"
   ]
  },
  {
   "cell_type": "code",
   "execution_count": 28,
   "id": "ac4241a1-7746-4a7d-977a-3a5302145f9a",
   "metadata": {},
   "outputs": [
    {
     "data": {
      "text/plain": [
       "98.84247571552729"
      ]
     },
     "execution_count": 28,
     "metadata": {},
     "output_type": "execute_result"
    }
   ],
   "source": [
    "100-m.mean()"
   ]
  },
  {
   "cell_type": "code",
   "execution_count": 30,
   "id": "33bf27a5-a25e-4dc2-b508-ab2722cc57e8",
   "metadata": {},
   "outputs": [
    {
     "data": {
      "text/plain": [
       "1.6589588667281143"
      ]
     },
     "execution_count": 30,
     "metadata": {},
     "output_type": "execute_result"
    }
   ],
   "source": [
    "m.std()"
   ]
  },
  {
   "cell_type": "code",
   "execution_count": null,
   "id": "cc423193-da86-4454-925d-8fe641d2b14e",
   "metadata": {},
   "outputs": [],
   "source": []
  }
 ],
 "metadata": {
  "kernelspec": {
   "display_name": "Python 3",
   "language": "python",
   "name": "python3"
  },
  "language_info": {
   "codemirror_mode": {
    "name": "ipython",
    "version": 3
   },
   "file_extension": ".py",
   "mimetype": "text/x-python",
   "name": "python",
   "nbconvert_exporter": "python",
   "pygments_lexer": "ipython3",
   "version": "3.7.3"
  }
 },
 "nbformat": 4,
 "nbformat_minor": 5
}
