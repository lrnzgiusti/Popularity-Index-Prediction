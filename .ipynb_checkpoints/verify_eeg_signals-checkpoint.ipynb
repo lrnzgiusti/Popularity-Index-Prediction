{
 "cells": [
  {
   "cell_type": "code",
   "execution_count": 3,
   "id": "65b4168e-d3ca-46ac-8d09-90c0dfb21686",
   "metadata": {},
   "outputs": [],
   "source": [
    "import numpy as np\n",
    "import matplotlib.pyplot as plt\n",
    "import h5py\n",
    "plt.rcParams[\"figure.figsize\"] = (16,8)"
   ]
  },
  {
   "cell_type": "code",
   "execution_count": 4,
   "id": "fc58ee5c-37e2-4388-8b26-3719b691de78",
   "metadata": {},
   "outputs": [],
   "source": [
    "p = \"data/EEG_125_ILADIM.mat\""
   ]
  },
  {
   "cell_type": "code",
   "execution_count": 8,
   "id": "7b9b5e59-8abf-4543-9f6e-46bfd6b09ce0",
   "metadata": {},
   "outputs": [],
   "source": [
    "f = h5py.File(p,'r')\n",
    "data = f.get('y')\n",
    "data = np.array(data)\n",
    "data = data[:, 1:-1]\n",
    "data[:, -1] -= 1 #useful for sign changes"
   ]
  },
  {
   "cell_type": "code",
   "execution_count": 11,
   "id": "06906e21-f4f9-4de5-843d-64efde04e7d3",
   "metadata": {},
   "outputs": [
    {
     "data": {
      "text/plain": [
       "array([-1., -1., -1., ..., -1., -1., -1.])"
      ]
     },
     "execution_count": 11,
     "metadata": {},
     "output_type": "execute_result"
    }
   ],
   "source": [
    "data[:, -1]"
   ]
  },
  {
   "cell_type": "code",
   "execution_count": 10,
   "id": "9157ef80-3403-45a6-840d-28a6ac6a52cd",
   "metadata": {},
   "outputs": [
    {
     "data": {
      "text/plain": [
       "[<matplotlib.lines.Line2D at 0x10de17da0>]"
      ]
     },
     "execution_count": 10,
     "metadata": {},
     "output_type": "execute_result"
    },
    {
     "data": {
      "image/png": "[encoded data removed]",
      "text/plain": [
       "<Figure size 1152x576 with 1 Axes>"
      ]
     },
     "metadata": {
      "needs_background": "light"
     },
     "output_type": "display_data"
    }
   ],
   "source": [
    "plt.plot(data[:, -1])"
   ]
  },
  {
   "cell_type": "code",
   "execution_count": 13,
   "id": "a2d3f31b-9adb-4270-887c-f1d45ea1190c",
   "metadata": {},
   "outputs": [],
   "source": [
    "t_id = 0\n",
    "signchange = ((np.roll(data[:, -1], 1) - data[:, -1]) != 0).astype(int)\n",
    "trig = np.where(signchange == 1)[0]\n",
    "trig_coupled = np.array([(trig[i], trig[i+1]) for i in range(0, len(trig)-1, 2)])\n",
    "a = trig_coupled[t_id][0], trig_coupled[t_id][1]"
   ]
  },
  {
   "cell_type": "markdown",
   "id": "cf3fa3e0-7dae-4761-9733-151987a2e0fe",
   "metadata": {},
   "source": [
    "7491.117647058823 "
   ]
  },
  {
   "cell_type": "code",
   "execution_count": 17,
   "id": "4929b5b8-0212-4d7b-a021-15d62420838b",
   "metadata": {},
   "outputs": [],
   "source": [
    "a = 0\n",
    "idx = 0"
   ]
  },
  {
   "cell_type": "code",
   "execution_count": 18,
   "id": "c49b3eb4-1fbc-4b57-9ba2-adecc9ccb00f",
   "metadata": {},
   "outputs": [
    {
     "name": "stdout",
     "output_type": "stream",
     "text": [
      "7491 25014 32505\n",
      "7491 33764 41255\n",
      "7491 42514 50005\n",
      "7491 51264 58755\n",
      "7491 60014 67505\n",
      "7491 68764 76255\n",
      "7492 77513 85005\n",
      "7492 86262 93754\n",
      "24993 95011 120004\n",
      "7491 121262 128753\n",
      "7491 130012 137503\n",
      "7491 138762 146253\n",
      "7480 147512 154992\n",
      "7501 156252 163753\n",
      "7492 165011 172503\n",
      "7487 173766 181253\n",
      "7495 182512 190007\n",
      "7491 191262 198753\n"
     ]
    }
   ],
   "source": [
    "for idx, t_id in enumerate(trig_coupled):\n",
    "    if (t_id[1] - t_id[0]) < 10000:\n",
    "        a += (t_id[1] - t_id[0])\n",
    "        idx += 1\n",
    "print(a/idx)"
   ]
  },
  {
   "cell_type": "code",
   "execution_count": null,
   "id": "ecf07c25-085c-40c0-bfd3-a11e44df0f20",
   "metadata": {},
   "outputs": [],
   "source": []
  }
 ],
 "metadata": {
  "kernelspec": {
   "display_name": "Python 3",
   "language": "python",
   "name": "python3"
  },
  "language_info": {
   "codemirror_mode": {
    "name": "ipython",
    "version": 3
   },
   "file_extension": ".py",
   "mimetype": "text/x-python",
   "name": "python",
   "nbconvert_exporter": "python",
   "pygments_lexer": "ipython3",
   "version": "3.7.3"
  }
 },
 "nbformat": 4,
 "nbformat_minor": 5
}
