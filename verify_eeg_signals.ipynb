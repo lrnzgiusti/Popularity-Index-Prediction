{
 "cells": [
  {
   "cell_type": "code",
   "execution_count": 1,
   "id": "65b4168e-d3ca-46ac-8d09-90c0dfb21686",
   "metadata": {},
   "outputs": [],
   "source": [
    "import numpy as np\n",
    "import matplotlib.pyplot as plt\n",
    "import h5py\n",
    "import scipy.io\n",
    "plt.rcParams[\"figure.figsize\"] = (16,8)"
   ]
  },
  {
   "cell_type": "code",
   "execution_count": 2,
   "id": "a4bb006a-33f9-4ac3-8f00-fad855f75409",
   "metadata": {},
   "outputs": [],
   "source": [
    "import pickle"
   ]
  },
  {
   "cell_type": "code",
   "execution_count": 3,
   "id": "4c748efa-e2af-4da2-9c42-b745ffe2bc5c",
   "metadata": {},
   "outputs": [],
   "source": [
    "import pandas as pd"
   ]
  },
  {
   "cell_type": "code",
   "execution_count": 4,
   "id": "513dccca-1706-44cf-b8ac-86743e0b226f",
   "metadata": {},
   "outputs": [],
   "source": [
    "df = pd.read_csv(\"data/features/features.csv\")"
   ]
  },
  {
   "cell_type": "code",
   "execution_count": 5,
   "id": "8e8fd937-d626-4f6e-b21d-13c90c2a282d",
   "metadata": {},
   "outputs": [
    {
     "data": {
      "text/html": [
       "<div>\n",
       "<style scoped>\n",
       "    .dataframe tbody tr th:only-of-type {\n",
       "        vertical-align: middle;\n",
       "    }\n",
       "\n",
       "    .dataframe tbody tr th {\n",
       "        vertical-align: top;\n",
       "    }\n",
       "\n",
       "    .dataframe thead th {\n",
       "        text-align: right;\n",
       "    }\n",
       "</style>\n",
       "<table border=\"1\" class=\"dataframe\">\n",
       "  <thead>\n",
       "    <tr style=\"text-align: right;\">\n",
       "      <th></th>\n",
       "      <th>title</th>\n",
       "      <th>popularity</th>\n",
       "      <th>happiness</th>\n",
       "      <th>danceability</th>\n",
       "      <th>energy</th>\n",
       "      <th>acousticness</th>\n",
       "      <th>instrumentalness</th>\n",
       "      <th>speechiness</th>\n",
       "    </tr>\n",
       "  </thead>\n",
       "  <tbody>\n",
       "    <tr>\n",
       "      <th>0</th>\n",
       "      <td>['Tuttecose', 'GazzelleMaraSattei']</td>\n",
       "      <td>72</td>\n",
       "      <td>66</td>\n",
       "      <td>66</td>\n",
       "      <td>64</td>\n",
       "      <td>20</td>\n",
       "      <td>0</td>\n",
       "      <td>5</td>\n",
       "    </tr>\n",
       "    <tr>\n",
       "      <th>1</th>\n",
       "      <td>['Tiraggiungerò', 'FredDePalma']</td>\n",
       "      <td>80</td>\n",
       "      <td>74</td>\n",
       "      <td>72</td>\n",
       "      <td>75</td>\n",
       "      <td>19</td>\n",
       "      <td>0</td>\n",
       "      <td>6</td>\n",
       "    </tr>\n",
       "    <tr>\n",
       "      <th>2</th>\n",
       "      <td>['ENFASI', 'Sierra']</td>\n",
       "      <td>57</td>\n",
       "      <td>33</td>\n",
       "      <td>62</td>\n",
       "      <td>77</td>\n",
       "      <td>1</td>\n",
       "      <td>0</td>\n",
       "      <td>6</td>\n",
       "    </tr>\n",
       "    <tr>\n",
       "      <th>3</th>\n",
       "      <td>['LoSai', 'TeduaSickLuke']</td>\n",
       "      <td>60</td>\n",
       "      <td>59</td>\n",
       "      <td>83</td>\n",
       "      <td>59</td>\n",
       "      <td>6</td>\n",
       "      <td>0</td>\n",
       "      <td>21</td>\n",
       "    </tr>\n",
       "    <tr>\n",
       "      <th>4</th>\n",
       "      <td>['Vado', 'JovanottiCharlieCharles']</td>\n",
       "      <td>3</td>\n",
       "      <td>72</td>\n",
       "      <td>69</td>\n",
       "      <td>71</td>\n",
       "      <td>7</td>\n",
       "      <td>0</td>\n",
       "      <td>6</td>\n",
       "    </tr>\n",
       "    <tr>\n",
       "      <th>...</th>\n",
       "      <td>...</td>\n",
       "      <td>...</td>\n",
       "      <td>...</td>\n",
       "      <td>...</td>\n",
       "      <td>...</td>\n",
       "      <td>...</td>\n",
       "      <td>...</td>\n",
       "      <td>...</td>\n",
       "    </tr>\n",
       "    <tr>\n",
       "      <th>342</th>\n",
       "      <td>['AmoreeCapoeira', 'TakagiKetraGiusyFerreri']</td>\n",
       "      <td>62</td>\n",
       "      <td>84</td>\n",
       "      <td>83</td>\n",
       "      <td>70</td>\n",
       "      <td>12</td>\n",
       "      <td>0</td>\n",
       "      <td>14</td>\n",
       "    </tr>\n",
       "    <tr>\n",
       "      <th>343</th>\n",
       "      <td>['Seiluminaba', 'FredDePalmaAnaMena']</td>\n",
       "      <td>67</td>\n",
       "      <td>62</td>\n",
       "      <td>79</td>\n",
       "      <td>69</td>\n",
       "      <td>8</td>\n",
       "      <td>0</td>\n",
       "      <td>6</td>\n",
       "    </tr>\n",
       "    <tr>\n",
       "      <th>344</th>\n",
       "      <td>['SoleroprodZef', 'LorenzoFragolaTheKolors']</td>\n",
       "      <td>60</td>\n",
       "      <td>59</td>\n",
       "      <td>80</td>\n",
       "      <td>68</td>\n",
       "      <td>26</td>\n",
       "      <td>0</td>\n",
       "      <td>16</td>\n",
       "    </tr>\n",
       "    <tr>\n",
       "      <th>345</th>\n",
       "      <td>['CeraunavoltailSabatoseraprodMattJoe', 'DJMat...</td>\n",
       "      <td>56</td>\n",
       "      <td>62</td>\n",
       "      <td>72</td>\n",
       "      <td>88</td>\n",
       "      <td>19</td>\n",
       "      <td>0</td>\n",
       "      <td>22</td>\n",
       "    </tr>\n",
       "    <tr>\n",
       "      <th>346</th>\n",
       "      <td>['AUnPassoDallaLuna', 'RoccoHuntAnaMena']</td>\n",
       "      <td>71</td>\n",
       "      <td>90</td>\n",
       "      <td>76</td>\n",
       "      <td>78</td>\n",
       "      <td>39</td>\n",
       "      <td>0</td>\n",
       "      <td>4</td>\n",
       "    </tr>\n",
       "  </tbody>\n",
       "</table>\n",
       "<p>347 rows × 8 columns</p>\n",
       "</div>"
      ],
      "text/plain": [
       "                                                 title  popularity  happiness  \\\n",
       "0                  ['Tuttecose', 'GazzelleMaraSattei']          72         66   \n",
       "1                     ['Tiraggiungerò', 'FredDePalma']          80         74   \n",
       "2                                 ['ENFASI', 'Sierra']          57         33   \n",
       "3                           ['LoSai', 'TeduaSickLuke']          60         59   \n",
       "4                  ['Vado', 'JovanottiCharlieCharles']           3         72   \n",
       "..                                                 ...         ...        ...   \n",
       "342      ['AmoreeCapoeira', 'TakagiKetraGiusyFerreri']          62         84   \n",
       "343              ['Seiluminaba', 'FredDePalmaAnaMena']          67         62   \n",
       "344       ['SoleroprodZef', 'LorenzoFragolaTheKolors']          60         59   \n",
       "345  ['CeraunavoltailSabatoseraprodMattJoe', 'DJMat...          56         62   \n",
       "346          ['AUnPassoDallaLuna', 'RoccoHuntAnaMena']          71         90   \n",
       "\n",
       "     danceability  energy  acousticness  instrumentalness  speechiness  \n",
       "0              66      64            20                 0            5  \n",
       "1              72      75            19                 0            6  \n",
       "2              62      77             1                 0            6  \n",
       "3              83      59             6                 0           21  \n",
       "4              69      71             7                 0            6  \n",
       "..            ...     ...           ...               ...          ...  \n",
       "342            83      70            12                 0           14  \n",
       "343            79      69             8                 0            6  \n",
       "344            80      68            26                 0           16  \n",
       "345            72      88            19                 0           22  \n",
       "346            76      78            39                 0            4  \n",
       "\n",
       "[347 rows x 8 columns]"
      ]
     },
     "execution_count": 5,
     "metadata": {},
     "output_type": "execute_result"
    }
   ],
   "source": [
    "df"
   ]
  },
  {
   "cell_type": "code",
   "execution_count": 7,
   "id": "9f365358-a9f2-4d06-8d8a-fc17c8ed88f7",
   "metadata": {},
   "outputs": [],
   "source": [
    "y = df['popularity'].to_numpy()"
   ]
  },
  {
   "cell_type": "code",
   "execution_count": 17,
   "id": "6ab3358a-4b03-45dc-8014-725610aefc69",
   "metadata": {},
   "outputs": [
    {
     "data": {
      "image/png": "[encoded data removed]",
      "text/plain": [
       "<Figure size 1152x576 with 2 Axes>"
      ]
     },
     "metadata": {},
     "output_type": "display_data"
    }
   ],
   "source": [
    "import matplotlib.pyplot as plt\n",
    "import pandas as pd\n",
    "import seaborn as sns\n",
    "import numpy as np\n",
    "\n",
    "N = 100\n",
    "nums = [np.random.randint(i-i, 9) for i in range(N)]\n",
    "\n",
    "fig, ax1 = plt.subplots()\n",
    "sns.kdeplot(data=df, x=\"popularity\", ax=ax1)\n",
    "ax1.set_xlim((df[\"popularity\"].min(), df[\"popularity\"].max()))\n",
    "ax2 = ax1.twinx()\n",
    "sns.histplot(data=df, x=\"popularity\", discrete=True, ax=ax2)\n",
    "fig.savefig(\"pop.jpg\", dpi=120)"
   ]
  },
  {
   "cell_type": "code",
   "execution_count": null,
   "id": "5538654c-3dae-4b99-834b-c8cd5933e52a",
   "metadata": {},
   "outputs": [],
   "source": [
    "sns.wr"
   ]
  },
  {
   "cell_type": "code",
   "execution_count": 16,
   "id": "5c3aa11b-670d-45cc-97cb-dbfe690a5704",
   "metadata": {},
   "outputs": [
    {
     "ename": "AttributeError",
     "evalue": "module 'seaborn' has no attribute 'savefig'",
     "output_type": "error",
     "traceback": [
      "\u001b[0;31m---------------------------------------------------------------------------\u001b[0m",
      "\u001b[0;31mAttributeError\u001b[0m                            Traceback (most recent call last)",
      "\u001b[0;32m<ipython-input-16-266b1df12e5c>\u001b[0m in \u001b[0;36m<module>\u001b[0;34m\u001b[0m\n\u001b[0;32m----> 1\u001b[0;31m \u001b[0msns\u001b[0m\u001b[0;34m.\u001b[0m\u001b[0msavefig\u001b[0m\u001b[0;34m(\u001b[0m\u001b[0;34m\"pop.jpg\"\u001b[0m\u001b[0;34m,\u001b[0m \u001b[0mdpi\u001b[0m\u001b[0;34m=\u001b[0m\u001b[0;36m120\u001b[0m\u001b[0;34m)\u001b[0m\u001b[0;34m\u001b[0m\u001b[0;34m\u001b[0m\u001b[0m\n\u001b[0m",
      "\u001b[0;31mAttributeError\u001b[0m: module 'seaborn' has no attribute 'savefig'"
     ]
    }
   ],
   "source": []
  },
  {
   "cell_type": "code",
   "execution_count": null,
   "id": "cd1510c4-2d59-4bd3-ba94-77b1c822e19c",
   "metadata": {},
   "outputs": [
    {
     "data": {
      "text/plain": [
       "['EEG_882_LORNAP_2.mat',\n",
       " '.DS_Store',\n",
       " 'EEG_977_CLABAT_5.mat',\n",
       " 'EEG_597_ALEPIZ.mat',\n",
       " 'EEG_69_NARNIM.mat',\n",
       " 'EEG_68_LORNAP.mat',\n",
       " 'EEG_947_GUIPRO.mat',\n",
       " 'EEG_960_FEDSPO_2.mat']"
      ]
     },
     "execution_count": 2,
     "metadata": {},
     "output_type": "execute_result"
    }
   ],
   "source": [
    "import os\n",
    "os.listdir(\"data/EEG_NEW\")"
   ]
  },
  {
   "cell_type": "code",
   "execution_count": 35,
   "id": "fc58ee5c-37e2-4388-8b26-3719b691de78",
   "metadata": {},
   "outputs": [],
   "source": [
    "p = \"data/EEG_NEW/EEG_960_FEDSPO_2.mat\""
   ]
  },
  {
   "cell_type": "code",
   "execution_count": 36,
   "id": "7b9b5e59-8abf-4543-9f6e-46bfd6b09ce0",
   "metadata": {},
   "outputs": [],
   "source": [
    "f = h5py.File(p)\n",
    "#h5py.File(p,'r')\n",
    "data = f.get('y')\n",
    "data = np.array(data)\n",
    "#data = data[:, 1:-1]\n",
    "#data[:, -1] -= 1 #useful for sign changes"
   ]
  },
  {
   "cell_type": "code",
   "execution_count": 37,
   "id": "9157ef80-3403-45a6-840d-28a6ac6a52cd",
   "metadata": {},
   "outputs": [
    {
     "data": {
      "text/plain": [
       "[<matplotlib.lines.Line2D at 0x11c9550b8>]"
      ]
     },
     "execution_count": 37,
     "metadata": {},
     "output_type": "execute_result"
    },
    {
     "data": {
      "image/png": "[encoded data removed]",
      "text/plain": [
       "<Figure size 1152x576 with 1 Axes>"
      ]
     },
     "metadata": {
      "needs_background": "light"
     },
     "output_type": "display_data"
    }
   ],
   "source": [
    "plt.plot(data[:, -2])"
   ]
  },
  {
   "cell_type": "code",
   "execution_count": null,
   "id": "278151e1-c015-4e76-82cd-8ef57be3d560",
   "metadata": {},
   "outputs": [],
   "source": []
  },
  {
   "cell_type": "code",
   "execution_count": 161,
   "id": "a2d3f31b-9adb-4270-887c-f1d45ea1190c",
   "metadata": {},
   "outputs": [],
   "source": [
    "t_id = 0\n",
    "signchange = ((np.roll(data[:, -1], 1) - data[:, -1]) != 0).astype(int)\n",
    "trig = np.where(signchange == 1)[0]\n",
    "trig_coupled = np.array([(trig[i], trig[i+1]) for i in range(0, len(trig)-1, 2)])\n",
    "a = trig_coupled[t_id][0], trig_coupled[t_id][1]"
   ]
  },
  {
   "cell_type": "code",
   "execution_count": 162,
   "id": "4929b5b8-0212-4d7b-a021-15d62420838b",
   "metadata": {},
   "outputs": [],
   "source": [
    "a = 0\n",
    "idx = 0"
   ]
  },
  {
   "cell_type": "code",
   "execution_count": 163,
   "id": "c49b3eb4-1fbc-4b57-9ba2-adecc9ccb00f",
   "metadata": {},
   "outputs": [
    {
     "name": "stdout",
     "output_type": "stream",
     "text": [
      "5218 25170 30388\n",
      "7491 31647 39138\n",
      "7491 40397 47888\n",
      "7491 49147 56638\n",
      "7490 57897 65387\n",
      "7491 66647 74138\n",
      "7491 75397 82888\n",
      "7500 84147 91647\n",
      "7585 92882 100467\n",
      "7939 101632 109571\n",
      "7509 110379 117888\n",
      "7496 119146 126642\n",
      "7487 127900 135387\n",
      "7492 136650 144142\n",
      "7496 145396 152892\n",
      "7491 154150 161641\n",
      "7491 162900 170391\n",
      "7491 171650 179141\n",
      "7491 180400 187891\n",
      "7491 189150 196641\n"
     ]
    }
   ],
   "source": [
    "for t_id in trig_coupled:\n",
    "    print(t_id[1] - t_id[0],  t_id[0],  t_id[1])"
   ]
  },
  {
   "cell_type": "code",
   "execution_count": 88,
   "id": "9dd9ac40-b752-4485-b0fc-dc5e482d2514",
   "metadata": {},
   "outputs": [],
   "source": [
    "data_c = data.copy()"
   ]
  },
  {
   "cell_type": "code",
   "execution_count": 164,
   "id": "ecf07c25-085c-40c0-bfd3-a11e44df0f20",
   "metadata": {},
   "outputs": [],
   "source": [
    "data[30388-7500 : 30388, -1 ] = 127"
   ]
  },
  {
   "cell_type": "code",
   "execution_count": null,
   "id": "90fa9025-adc1-4dc9-b56e-4f5d3074a936",
   "metadata": {},
   "outputs": [],
   "source": []
  },
  {
   "cell_type": "code",
   "execution_count": null,
   "id": "beca8190-7058-47c7-95de-5142d0c4b89c",
   "metadata": {},
   "outputs": [],
   "source": []
  },
  {
   "cell_type": "code",
   "execution_count": null,
   "id": "a5ae2b86-db1e-42d6-b75f-01ee67fadbf2",
   "metadata": {},
   "outputs": [],
   "source": []
  },
  {
   "cell_type": "code",
   "execution_count": 165,
   "id": "4b698e49-7b9a-413f-8a3c-3b08b272c19d",
   "metadata": {},
   "outputs": [
    {
     "data": {
      "text/plain": [
       "[<matplotlib.lines.Line2D at 0x123f32fd0>]"
      ]
     },
     "execution_count": 165,
     "metadata": {},
     "output_type": "execute_result"
    },
    {
     "data": {
      "image/png": "[encoded data removed]",
      "text/plain": [
       "<Figure size 1152x576 with 1 Axes>"
      ]
     },
     "metadata": {
      "needs_background": "light"
     },
     "output_type": "display_data"
    }
   ],
   "source": [
    "plt.plot(data[:, -1])\n",
    "#plt.plot(data_c[:, -1])"
   ]
  },
  {
   "cell_type": "code",
   "execution_count": 152,
   "id": "6a3316f4-eb08-4f27-9dc0-50344ce47f60",
   "metadata": {},
   "outputs": [],
   "source": [
    "import scipy.io"
   ]
  },
  {
   "cell_type": "code",
   "execution_count": 166,
   "id": "457a2b1a-d6f0-42a8-b36b-e1cda36ccdfb",
   "metadata": {},
   "outputs": [],
   "source": [
    "scipy.io.savemat('EEG_133_LORGIU_5.mat', {'y': data})"
   ]
  },
  {
   "cell_type": "code",
   "execution_count": null,
   "id": "a73aa61f-da02-4974-9b08-fb139e3761fc",
   "metadata": {},
   "outputs": [],
   "source": []
  }
 ],
 "metadata": {
  "kernelspec": {
   "display_name": "Python 3",
   "language": "python",
   "name": "python3"
  },
  "language_info": {
   "codemirror_mode": {
    "name": "ipython",
    "version": 3
   },
   "file_extension": ".py",
   "mimetype": "text/x-python",
   "name": "python",
   "nbconvert_exporter": "python",
   "pygments_lexer": "ipython3",
   "version": "3.7.3"
  }
 },
 "nbformat": 4,
 "nbformat_minor": 5
}
